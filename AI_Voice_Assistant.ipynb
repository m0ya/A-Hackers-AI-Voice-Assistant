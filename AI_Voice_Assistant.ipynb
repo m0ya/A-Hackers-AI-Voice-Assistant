{
  "nbformat": 4,
  "nbformat_minor": 0,
  "metadata": {
    "colab": {
      "name": "AI-Voice-Assistant.ipynb",
      "provenance": [],
      "collapsed_sections": [],
      "authorship_tag": "ABX9TyPxaiX1YEs4MsqBWo+k3nTx",
      "include_colab_link": true
    },
    "kernelspec": {
      "name": "python3",
      "display_name": "Python 3"
    },
    "accelerator": "GPU"
  },
  "cells": [
    {
      "cell_type": "markdown",
      "metadata": {
        "id": "view-in-github",
        "colab_type": "text"
      },
      "source": [
        "<a href=\"https://colab.research.google.com/github/m0ya/A-Hackers-AI-Voice-Assistant/blob/master/AI_Voice_Assistant.ipynb\" target=\"_parent\"><img src=\"https://colab.research.google.com/assets/colab-badge.svg\" alt=\"Open In Colab\"/></a>"
      ]
    },
    {
      "cell_type": "code",
      "metadata": {
        "colab": {
          "base_uri": "https://localhost:8080/"
        },
        "id": "F1uPTRLvgWyy",
        "outputId": "f444b10d-ac5f-4dee-ebe3-98fbc2e8d1f9"
      },
      "source": [
        "  !git clone https://github.com/m0ya/A-Hackers-AI-Voice-Assistant.git\r\n",
        "  %cd A-Hackers-AI-Voice-Assistant\r\n",
        "  "
      ],
      "execution_count": 1,
      "outputs": [
        {
          "output_type": "stream",
          "text": [
            "Cloning into 'A-Hackers-AI-Voice-Assistant'...\n",
            "remote: Enumerating objects: 68, done.\u001b[K\n",
            "remote: Counting objects: 100% (68/68), done.\u001b[K\n",
            "remote: Compressing objects: 100% (66/66), done.\u001b[K\n",
            "remote: Total 610 (delta 14), reused 9 (delta 1), pack-reused 542\u001b[K\n",
            "Receiving objects: 100% (610/610), 1.71 MiB | 31.24 MiB/s, done.\n",
            "Resolving deltas: 100% (343/343), done.\n",
            "/content/A-Hackers-AI-Voice-Assistant\n"
          ],
          "name": "stdout"
        }
      ]
    },
    {
      "cell_type": "code",
      "metadata": {
        "id": "WhKOjQM2hDOO"
      },
      "source": [
        "!apt install libasound2-dev portaudio19-dev libportaudio2 libportaudiocpp0 ffmpeg\r\n",
        "!pip install pyaudio"
      ],
      "execution_count": null,
      "outputs": []
    },
    {
      "cell_type": "code",
      "metadata": {
        "id": "OESek85ohFvY"
      },
      "source": [
        "!pip install portaudio "
      ],
      "execution_count": null,
      "outputs": []
    },
    {
      "cell_type": "code",
      "metadata": {
        "id": "NuMMXmO3hHCs"
      },
      "source": [
        "%cd A-Hackers-AI-Voice-Assistant"
      ],
      "execution_count": null,
      "outputs": []
    },
    {
      "cell_type": "code",
      "metadata": {
        "colab": {
          "base_uri": "https://localhost:8080/"
        },
        "id": "SktZgBpQhIL2",
        "outputId": "a5bcb920-db2b-40b3-939c-918ca5f39d7e"
      },
      "source": [
        " %cd  VoiceAssistant/wakeword/scripts"
      ],
      "execution_count": 5,
      "outputs": [
        {
          "output_type": "stream",
          "text": [
            "/content/A-Hackers-AI-Voice-Assistant/VoiceAssistant/wakeword/scripts\n"
          ],
          "name": "stdout"
        }
      ]
    },
    {
      "cell_type": "code",
      "metadata": {
        "id": "dxt5VMZZhJTd"
      },
      "source": [
        "!pip install -r requirements.txt"
      ],
      "execution_count": null,
      "outputs": []
    },
    {
      "cell_type": "code",
      "metadata": {
        "id": "SzuMVeEFhKhz"
      },
      "source": [
        "!pip install -r rpi-requirements.txt"
      ],
      "execution_count": null,
      "outputs": []
    },
    {
      "cell_type": "code",
      "metadata": {
        "id": "2nNGlAP7hLzO"
      },
      "source": [
        "!python collect_wakeword_audio.py --sample_rate 8000 --seconds 2 --interactive --interactive_save_path ./data/"
      ],
      "execution_count": null,
      "outputs": []
    },
    {
      "cell_type": "code",
      "metadata": {
        "id": "c1nbs3FBhM1T"
      },
      "source": [
        "!python collect_wakeword_audio.py --save_path .\\data\\"
      ],
      "execution_count": null,
      "outputs": []
    },
    {
      "cell_type": "code",
      "metadata": {
        "id": "HJUVcxk5hN_P"
      },
      "source": [
        "!python collect_wakeword_audio.py --sample_rate 8000 --save_path ./data/"
      ],
      "execution_count": null,
      "outputs": []
    },
    {
      "cell_type": "code",
      "metadata": {
        "id": "XLIKmNSehPFk"
      },
      "source": [
        "!python collect_wakeword_audio.py  --save_path ./data/"
      ],
      "execution_count": null,
      "outputs": []
    },
    {
      "cell_type": "code",
      "metadata": {
        "colab": {
          "base_uri": "https://localhost:8080/"
        },
        "id": "eJ0CaPCBhQH6",
        "outputId": "2fd16ba2-03f0-40ef-a48f-6291a8da0565"
      },
      "source": [
        "cd ../"
      ],
      "execution_count": 31,
      "outputs": [
        {
          "output_type": "stream",
          "text": [
            "/content/A-Hackers-AI-Voice-Assistant/VoiceAssistant/wakeword\n"
          ],
          "name": "stdout"
        }
      ]
    },
    {
      "cell_type": "code",
      "metadata": {
        "colab": {
          "base_uri": "https://localhost:8080/"
        },
        "id": "vqlfkkxHhR5l",
        "outputId": "7d609855-e0b1-45dd-e67d-6e872e0ab612"
      },
      "source": [
        "%cd neuralnet/ "
      ],
      "execution_count": 32,
      "outputs": [
        {
          "output_type": "stream",
          "text": [
            "/content/A-Hackers-AI-Voice-Assistant/VoiceAssistant/wakeword/neuralnet\n"
          ],
          "name": "stdout"
        }
      ]
    },
    {
      "cell_type": "code",
      "metadata": {
        "colab": {
          "base_uri": "https://localhost:8080/"
        },
        "id": "aeuQ9jorhTLh",
        "outputId": "1ded8b7e-93f3-44ab-cfdb-771743833e2d"
      },
      "source": [
        "%cd scripts/ "
      ],
      "execution_count": 25,
      "outputs": [
        {
          "output_type": "stream",
          "text": [
            "/content/A-Hackers-AI-Voice-Assistant/VoiceAssistant/wakeword/scripts\n"
          ],
          "name": "stdout"
        }
      ]
    },
    {
      "cell_type": "code",
      "metadata": {
        "id": "bDQmvWO-hU-n"
      },
      "source": [
        " !python train.py --sample_rate 8000 -epochs 20 --batch_size 32 --eval_batch_size 1 --lr 0.1 --model_name lstm_wakeword_rpi_v5 --save_checkpoint_path /media/models/ --train_data_json /media/data/audio/wakeword_data/moya_train_v5.json ./media/data/audio/wakeword_data/moya_test_v5.json --test_data_json /media/data/audio/wakeword_data/moya_test_v5.json --num_workers 24 --hidden_size 32"
      ],
      "execution_count": null,
      "outputs": []
    },
    {
      "cell_type": "code",
      "metadata": {
        "id": "R77hG4t2hWfb"
      },
      "source": [
        "! python create_wakeword_jsons.py --zero_label_dir 0 --one_label_dir 1 --save_json_path ./data/audio/wakeword_data/"
      ],
      "execution_count": 29,
      "outputs": []
    },
    {
      "cell_type": "code",
      "metadata": {
        "id": "zbU2iwPPhXwi"
      },
      "source": [
        "!python split_audio_into_chunks.py --seconds 60 --audio_file_name ./data/kmk.wav --save_path ./data/audio"
      ],
      "execution_count": 17,
      "outputs": []
    },
    {
      "cell_type": "code",
      "metadata": {
        "id": "LcXqFzzihZAY"
      },
      "source": [
        "! python split_commonvoice.py --data_path ./data/ --file_name ./data/kmk.wav  --save_path ./data/audio"
      ],
      "execution_count": null,
      "outputs": []
    },
    {
      "cell_type": "code",
      "metadata": {
        "id": "RDIkhliyhaNy"
      },
      "source": [
        " !python engine.py --model_file "
      ],
      "execution_count": null,
      "outputs": []
    },
    {
      "cell_type": "code",
      "metadata": {
        "id": "b4qVkeIShcBL"
      },
      "source": [
        " !python optimize_graph.py --model_checkpoint  --save_path "
      ],
      "execution_count": null,
      "outputs": []
    },
    {
      "cell_type": "code",
      "metadata": {
        "colab": {
          "base_uri": "https://localhost:8080/"
        },
        "id": "-PUI_HDPhdJi",
        "outputId": "e3842813-194a-421e-f79c-d8fe95fd8360"
      },
      "source": [
        " !python train.py --sample_rate 8000 --epochs 20 --batch_size 32 --eval_batch_size 1 --lr 0.1 --model_name lstm_wakeword_rpi_v5 --save_checkpoint_path ./media/models/ --train_data_json /content/A-Hackers-AI-Voice-Assistant/VoiceAssistant/wakeword/scripts/data/audio/wakeword_data/train.json  --test_data_json /content/A-Hackers-AI-Voice-Assistant/VoiceAssistant/wakeword/scripts/data/audio/wakeword_data/test.json --num_workers 24 --hidden_size 32"
      ],
      "execution_count": 33,
      "outputs": [
        {
          "output_type": "stream",
          "text": [
            "Traceback (most recent call last):\n",
            "  File \"train.py\", line 175, in <module>\n",
            "    main(args)\n",
            "  File \"train.py\", line 96, in main\n",
            "    **kwargs)\n",
            "  File \"/usr/local/lib/python3.7/dist-packages/torch/utils/data/dataloader.py\", line 262, in __init__\n",
            "    sampler = RandomSampler(dataset, generator=generator)  # type: ignore\n",
            "  File \"/usr/local/lib/python3.7/dist-packages/torch/utils/data/sampler.py\", line 104, in __init__\n",
            "    \"value, but got num_samples={}\".format(self.num_samples))\n",
            "ValueError: num_samples should be a positive integer value, but got num_samples=0\n"
          ],
          "name": "stdout"
        }
      ]
    }
  ]
}